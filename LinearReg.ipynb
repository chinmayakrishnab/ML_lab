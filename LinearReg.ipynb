{
 "cells": [
  {
   "cell_type": "code",
   "execution_count": 19,
   "metadata": {},
   "outputs": [
    {
     "name": "stdout",
     "output_type": "stream",
     "text": [
      "Sum of the square total ->  2914.8470516572247\n",
      "Sum of the square regression ->  2046.3146047180412\n",
      "R ->  0.7020315537841402\n"
     ]
    },
    {
     "data": {
      "image/png": "[encoded data removed]",
      "text/plain": [
       "<Figure size 432x288 with 1 Axes>"
      ]
     },
     "metadata": {
      "needs_background": "light"
     },
     "output_type": "display_data"
    }
   ],
   "source": [
    "import pandas as pd\n",
    "import numpy as np\n",
    "import statistics\n",
    "import matplotlib.pyplot as plt\n",
    "\n",
    "header=[\"X\",\"Y\"]\n",
    "data=pd.read_csv(\"Food-Truck-LineReg.csv\",names=header)\n",
    "data.head()\n",
    "\n",
    "class LR():\n",
    "    def __init__(self,data):\n",
    "        self.x=np.array(data[\"X\"])\n",
    "        self.y=np.array(data[\"Y\"])\n",
    "        \n",
    "    def train(self):\n",
    "        self.mx=np.mean(self.x)\n",
    "        self.my=np.mean(self.y)\n",
    "        ssx=statistics.stdev(self.x)\n",
    "        ssy=statistics.stdev(self.y)\n",
    "        r = np.corrcoef(self.x,self.y)\n",
    "        m=r[0][1]*(ssy/ssx)\n",
    "        c=self.my-(m*self.mx)\n",
    "        self.y_pred=m*self.x+c\n",
    "        \n",
    "        \n",
    "    def plot(self):\n",
    "        plt.scatter(self.x,self.y,color=\"g\",s=30)\n",
    "        plt.plot(self.x,self.y_pred,color=\"r\")\n",
    "        plt.xlabel('x')\n",
    "        plt.ylabel('y')\n",
    "        \n",
    "    def error(self):\n",
    "        er=(self.y-self.my)**2\n",
    "        sst=sum(er)\n",
    "        print(\"Sum of the square total -> \",sst)\n",
    "        \n",
    "        e1=(self.y_pred-self.my)**2\n",
    "        ssr=sum(e1)\n",
    "        print(\"Sum of the square regression -> \",ssr)\n",
    "        \n",
    "        r=ssr/sst\n",
    "        print(\"R -> \",r)\n",
    "        \n",
    "    \n",
    "m=LR(data)\n",
    "m.train()\n",
    "m.plot()\n",
    "m.error()       \n",
    "    \n",
    "        \n",
    "    "
   ]
  },
  {
   "cell_type": "code",
   "execution_count": null,
   "metadata": {},
   "outputs": [],
   "source": []
  }
 ],
 "metadata": {
  "kernelspec": {
   "display_name": "Python 3",
   "language": "python",
   "name": "python3"
  },
  "language_info": {
   "codemirror_mode": {
    "name": "ipython",
    "version": 3
   },
   "file_extension": ".py",
   "mimetype": "text/x-python",
   "name": "python",
   "nbconvert_exporter": "python",
   "pygments_lexer": "ipython3",
   "version": "3.7.4"
  }
 },
 "nbformat": 4,
 "nbformat_minor": 2
}
