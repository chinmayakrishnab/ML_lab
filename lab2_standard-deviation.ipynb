{
 "cells": [
  {
   "cell_type": "code",
   "execution_count": 34,
   "metadata": {},
   "outputs": [
    {
     "name": "stdout",
     "output_type": "stream",
     "text": [
      "enter the size of array 5\n",
      "22\n",
      "21\n",
      "22\n",
      "31\n",
      "41\n",
      "Mean = 27.4\n",
      "Median = 22\n",
      "Mode = [22]\n",
      "Variance = 59.44\n",
      "standard deviation = 7.709734106958553\n"
     ]
    }
   ],
   "source": [
    "from collections import Counter\n",
    "\n",
    "n=input(\"enter the size of array \")\n",
    "n=int(n)\n",
    "arr=[]\n",
    "for i in range(0,n):\n",
    "    e=int(input())\n",
    "    arr.append(e)\n",
    "arr.sort()\n",
    "mean=sum(arr)/n\n",
    "print(\"Mean =\",mean)\n",
    "\n",
    "if(n%2==0):\n",
    "    m1=arr[n//2]\n",
    "    m2=arr[n//2-1]\n",
    "    median=(m1+m2)/2\n",
    "else:\n",
    "    median=arr[n//2]\n",
    "print(\"Median =\",median)\n",
    "\n",
    "c = Counter(arr)\n",
    "mod=[k for k, v in c.items() if v == c.most_common(1)[0][1]]\n",
    "if(len(mod)==n):\n",
    "    print(\"No mode found \")\n",
    "else:\n",
    "    print(\"Mode =\",mod)\n",
    "\n",
    "var=sum((x-mean)**2 for x in arr) / len(arr)\n",
    "print(\"Variance =\",var)\n",
    "\n",
    "print(\"standard deviation =\",var**0.5)"
   ]
  }
 ],
 "metadata": {
  "kernelspec": {
   "display_name": "Python 3",
   "language": "python",
   "name": "python3"
  },
  "language_info": {
   "codemirror_mode": {
    "name": "ipython",
    "version": 3
   },
   "file_extension": ".py",
   "mimetype": "text/x-python",
   "name": "python",
   "nbconvert_exporter": "python",
   "pygments_lexer": "ipython3",
   "version": "3.7.4"
  }
 },
 "nbformat": 4,
 "nbformat_minor": 2
}
