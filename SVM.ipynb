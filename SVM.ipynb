{
 "cells": [
  {
   "cell_type": "code",
   "execution_count": 50,
   "metadata": {},
   "outputs": [
    {
     "name": "stdout",
     "output_type": "stream",
     "text": [
      "w=  [[ 0.25 -0.25]]\n",
      "b=  [-0.75]\n",
      "Indices of support vectors =  [2 3]\n",
      "Support vectors =  [[ 2.  3.]\n",
      " [ 6. -1.]]\n",
      "Number of support vectors for each class =  [1 1]\n",
      "Coefficients of the support vector in the decision function =  [[0.0625 0.0625]]\n"
     ]
    }
   ],
   "source": [
    "from sklearn.svm import SVC\n",
    "import numpy as np\n",
    "\n",
    "x=np.array([[3,4],[1,4],[2,3],[6,-1],[7,-1],[5,-3]])\n",
    "y=np.array([-1,-1,-1,1,1,1])\n",
    "\n",
    "clf=SVC(C=1e5,kernel='linear')\n",
    "clf.fit(x,y)\n",
    "\n",
    "print('w= ',clf.coef_)\n",
    "print('b= ',clf.intercept_)\n",
    "print('Indices of support vectors = ',clf.support_)\n",
    "print('Support vectors = ',clf.support_vectors_)\n",
    "print('Number of support vectors for each class = ',clf.n_support_)\n",
    "print('Coefficients of the support vector in the decision function = ',np.abs(clf.dual_coef_))"
   ]
  },
  {
   "cell_type": "code",
   "execution_count": 51,
   "metadata": {},
   "outputs": [
    {
     "name": "stdout",
     "output_type": "stream",
     "text": [
      "      Id       RI     Na    Mg    Al    Si      K    Ca    Ba   Fe  Type\n",
      "0      1  1.52101  13.64  4.49  1.10  71.78  0.06  8.75  0.00  0.0     1\n",
      "1      2  1.51761  13.89  3.60  1.36  72.73  0.48  7.83  0.00  0.0     1\n",
      "2      3  1.51618  13.53  3.55  1.54  72.99  0.39  7.78  0.00  0.0     1\n",
      "3      4  1.51766  13.21  3.69  1.29  72.61  0.57  8.22  0.00  0.0     1\n",
      "4      5  1.51742  13.27  3.62  1.24  73.08  0.55  8.07  0.00  0.0     1\n",
      "..   ...      ...    ...   ...   ...    ...   ...   ...   ...  ...   ...\n",
      "209  210  1.51623  14.14  0.00  2.88  72.61  0.08  9.18  1.06  0.0     7\n",
      "210  211  1.51685  14.92  0.00  1.99  73.06  0.00  8.40  1.59  0.0     7\n",
      "211  212  1.52065  14.36  0.00  2.02  73.42  0.00  8.44  1.64  0.0     7\n",
      "212  213  1.51651  14.38  0.00  1.94  73.61  0.00  8.48  1.57  0.0     7\n",
      "213  214  1.51711  14.23  0.00  2.08  73.36  0.00  8.62  1.67  0.0     7\n",
      "\n",
      "[214 rows x 11 columns]\n"
     ]
    }
   ],
   "source": [
    "import numpy as np\n",
    "import pandas as pd\n",
    "from matplotlib import pyplot as plt\n",
    "df=pd.read_csv(\"glass.csv\")\n",
    "print(df)"
   ]
  },
  {
   "cell_type": "code",
   "execution_count": 52,
   "metadata": {},
   "outputs": [
    {
     "name": "stdout",
     "output_type": "stream",
     "text": [
      "[[-1.72397593  0.87286765  0.28495326 ... -0.35287683 -0.5864509\n",
      "  -0.84827468]\n",
      " [-1.70778837 -0.24933347  0.59181718 ... -0.35287683 -0.5864509\n",
      "  -0.84827468]\n",
      " [-1.6916008  -0.72131806  0.14993314 ... -0.35287683 -0.5864509\n",
      "  -0.84827468]\n",
      " ...\n",
      " [ 1.6916008   0.75404635  1.16872135 ...  2.95320036 -0.5864509\n",
      "   2.01047778]\n",
      " [ 1.70778837 -0.61239854  1.19327046 ...  2.81208731 -0.5864509\n",
      "   2.01047778]\n",
      " [ 1.72397593 -0.41436305  1.00915211 ...  3.01367739 -0.5864509\n",
      "   2.01047778]]\n"
     ]
    }
   ],
   "source": [
    "from sklearn.preprocessing import StandardScaler\n",
    "scaler = StandardScaler()\n",
    "print(scaler.fit_transform(df))"
   ]
  },
  {
   "cell_type": "code",
   "execution_count": 53,
   "metadata": {},
   "outputs": [],
   "source": [
    "x=df.drop('Type',axis=1)\n",
    "y=df.Type"
   ]
  },
  {
   "cell_type": "code",
   "execution_count": 54,
   "metadata": {},
   "outputs": [],
   "source": [
    "from sklearn.model_selection import train_test_split\n",
    "x_train,x_test,y_train,y_test=train_test_split(x,y,test_size=0.3)"
   ]
  },
  {
   "cell_type": "code",
   "execution_count": 55,
   "metadata": {},
   "outputs": [
    {
     "data": {
      "text/plain": [
       "SVC(kernel='linear')"
      ]
     },
     "execution_count": 55,
     "metadata": {},
     "output_type": "execute_result"
    }
   ],
   "source": [
    "from sklearn import svm\n",
    "ml=svm.SVC(kernel='linear')\n",
    "ml.fit(x_train,y_train)"
   ]
  },
  {
   "cell_type": "code",
   "execution_count": 56,
   "metadata": {},
   "outputs": [
    {
     "name": "stdout",
     "output_type": "stream",
     "text": [
      "[[7.00000e+01 1.52300e+00 1.33100e+01 3.58000e+00 8.20000e-01 7.19900e+01\n",
      "  1.20000e-01 1.01700e+01 0.00000e+00 3.00000e-02]\n",
      " [7.10000e+01 1.51574e+00 1.48600e+01 3.67000e+00 1.74000e+00 7.18700e+01\n",
      "  1.60000e-01 7.36000e+00 0.00000e+00 1.20000e-01]\n",
      " [1.46000e+02 1.51839e+00 1.28500e+01 3.67000e+00 1.24000e+00 7.25700e+01\n",
      "  6.20000e-01 8.68000e+00 0.00000e+00 3.50000e-01]\n",
      " [1.48000e+02 1.51610e+00 1.33300e+01 3.53000e+00 1.34000e+00 7.26700e+01\n",
      "  5.60000e-01 8.33000e+00 0.00000e+00 0.00000e+00]\n",
      " [1.63000e+02 1.52211e+00 1.41900e+01 3.78000e+00 9.10000e-01 7.13600e+01\n",
      "  2.30000e-01 9.14000e+00 0.00000e+00 3.70000e-01]\n",
      " [1.75000e+02 1.52058e+00 1.28500e+01 1.61000e+00 2.17000e+00 7.21800e+01\n",
      "  7.60000e-01 9.70000e+00 2.40000e-01 5.10000e-01]\n",
      " [1.64000e+02 1.51514e+00 1.40100e+01 2.68000e+00 3.50000e+00 6.98900e+01\n",
      "  1.68000e+00 5.87000e+00 2.20000e+00 0.00000e+00]\n",
      " [1.65000e+02 1.51915e+00 1.27300e+01 1.85000e+00 1.86000e+00 7.26900e+01\n",
      "  6.00000e-01 1.00900e+01 0.00000e+00 0.00000e+00]\n",
      " [1.85000e+02 1.51115e+00 1.73800e+01 0.00000e+00 3.40000e-01 7.54100e+01\n",
      "  0.00000e+00 6.65000e+00 0.00000e+00 0.00000e+00]\n",
      " [1.77000e+02 1.51905e+00 1.40000e+01 2.39000e+00 1.56000e+00 7.23700e+01\n",
      "  0.00000e+00 9.57000e+00 0.00000e+00 0.00000e+00]\n",
      " [1.84000e+02 1.51969e+00 1.45600e+01 0.00000e+00 5.60000e-01 7.34800e+01\n",
      "  0.00000e+00 1.12200e+01 0.00000e+00 0.00000e+00]\n",
      " [1.87000e+02 1.51838e+00 1.43200e+01 3.26000e+00 2.22000e+00 7.12500e+01\n",
      "  1.46000e+00 5.79000e+00 1.63000e+00 0.00000e+00]\n",
      " [1.88000e+02 1.52315e+00 1.34400e+01 3.34000e+00 1.23000e+00 7.23800e+01\n",
      "  6.00000e-01 8.83000e+00 0.00000e+00 0.00000e+00]]\n"
     ]
    }
   ],
   "source": [
    "print(ml.support_vectors_)"
   ]
  },
  {
   "cell_type": "code",
   "execution_count": 57,
   "metadata": {},
   "outputs": [
    {
     "name": "stdout",
     "output_type": "stream",
     "text": [
      "[1 2 2 3 3 2]\n"
     ]
    }
   ],
   "source": [
    "print(ml.n_support_)"
   ]
  },
  {
   "cell_type": "code",
   "execution_count": 58,
   "metadata": {},
   "outputs": [],
   "source": [
    "y_pred=ml.predict(x_test)"
   ]
  },
  {
   "cell_type": "code",
   "execution_count": 59,
   "metadata": {},
   "outputs": [
    {
     "name": "stdout",
     "output_type": "stream",
     "text": [
      "1.0\n"
     ]
    }
   ],
   "source": [
    "from sklearn.metrics import accuracy_score,confusion_matrix,classification_report\n",
    "print(accuracy_score(y_test,y_pred))"
   ]
  },
  {
   "cell_type": "code",
   "execution_count": 60,
   "metadata": {},
   "outputs": [
    {
     "name": "stdout",
     "output_type": "stream",
     "text": [
      "[[23  0  0  0  0  0]\n",
      " [ 0 28  0  0  0  0]\n",
      " [ 0  0  3  0  0  0]\n",
      " [ 0  0  0  1  0  0]\n",
      " [ 0  0  0  0  1  0]\n",
      " [ 0  0  0  0  0  9]]\n"
     ]
    }
   ],
   "source": [
    "print(confusion_matrix(y_test,y_pred))"
   ]
  },
  {
   "cell_type": "code",
   "execution_count": 61,
   "metadata": {},
   "outputs": [
    {
     "name": "stdout",
     "output_type": "stream",
     "text": [
      "              precision    recall  f1-score   support\n",
      "\n",
      "           1       1.00      1.00      1.00        23\n",
      "           2       1.00      1.00      1.00        28\n",
      "           3       1.00      1.00      1.00         3\n",
      "           5       1.00      1.00      1.00         1\n",
      "           6       1.00      1.00      1.00         1\n",
      "           7       1.00      1.00      1.00         9\n",
      "\n",
      "    accuracy                           1.00        65\n",
      "   macro avg       1.00      1.00      1.00        65\n",
      "weighted avg       1.00      1.00      1.00        65\n",
      "\n"
     ]
    }
   ],
   "source": [
    "print(classification_report(y_test,y_pred))"
   ]
  },
  {
   "cell_type": "code",
   "execution_count": 62,
   "metadata": {},
   "outputs": [],
   "source": [
    "model1=SVC(kernel='sigmoid')\n",
    "model2=SVC(kernel='poly')\n",
    "model3=SVC(kernel='rbf')"
   ]
  },
  {
   "cell_type": "code",
   "execution_count": 63,
   "metadata": {},
   "outputs": [
    {
     "data": {
      "text/plain": [
       "SVC()"
      ]
     },
     "execution_count": 63,
     "metadata": {},
     "output_type": "execute_result"
    }
   ],
   "source": [
    "#With Different Kernels\n",
    "\n",
    "model1.fit(x_train,y_train)\n",
    "model2.fit(x_train,y_train)\n",
    "model3.fit(x_train,y_train)"
   ]
  },
  {
   "cell_type": "code",
   "execution_count": 64,
   "metadata": {},
   "outputs": [],
   "source": [
    "ypred1=model1.predict(x_test)\n",
    "ypred2=model2.predict(x_test)\n",
    "ypred3=model3.predict(x_test)"
   ]
  },
  {
   "cell_type": "code",
   "execution_count": 65,
   "metadata": {},
   "outputs": [
    {
     "name": "stdout",
     "output_type": "stream",
     "text": [
      "0.7692307692307693\n"
     ]
    }
   ],
   "source": [
    "print(accuracy_score(y_test,ypred1))"
   ]
  },
  {
   "cell_type": "code",
   "execution_count": 66,
   "metadata": {},
   "outputs": [
    {
     "name": "stdout",
     "output_type": "stream",
     "text": [
      "0.8923076923076924\n"
     ]
    }
   ],
   "source": [
    "print(accuracy_score(y_test,ypred2))"
   ]
  },
  {
   "cell_type": "code",
   "execution_count": 67,
   "metadata": {},
   "outputs": [
    {
     "name": "stdout",
     "output_type": "stream",
     "text": [
      "0.8615384615384616\n"
     ]
    }
   ],
   "source": [
    "print(accuracy_score(y_test,ypred3))"
   ]
  },
  {
   "cell_type": "code",
   "execution_count": 68,
   "metadata": {},
   "outputs": [
    {
     "data": {
      "text/plain": [
       "[{'kernel': ['rbf'], 'gamma': [0.001, 0.0001], 'C': [1, 10, 100, 1000]},\n",
       " {'kernel': ['linear'], 'C': [1, 10, 100, 1000]},\n",
       " {'kernel': ['poly'], 'gamma': [0.001, 0.0001], 'degree': [2, 3, 4]},\n",
       " {'kernel': ['sigmoid'],\n",
       "  'C': [1, 10, 100, 1000],\n",
       "  'gamma': [0.001, 0.0001, 1e-05]}]"
      ]
     },
     "execution_count": 68,
     "metadata": {},
     "output_type": "execute_result"
    }
   ],
   "source": [
    "#Array method of using different kernels\n",
    "\n",
    "[{'kernel':['rbf'],'gamma':[1e-3,1e-4],\n",
    "     'C':[1,10,100,1000]},\n",
    "{'kernel':['linear'],'C':[1,10,100,1000]},\n",
    "{'kernel':['poly'],'gamma':[1e-3,1e-4],'degree':[2,3,4]},\n",
    "{'kernel':['sigmoid'],'C':[1,10,100,1000],'gamma':[1e-3,1e-4,1e-5]}]"
   ]
  },
  {
   "cell_type": "code",
   "execution_count": 69,
   "metadata": {},
   "outputs": [],
   "source": [
    "params_grid1=[{'kernel':['rbf']},\n",
    "             {'kernel':['linear']},\n",
    "             {'kernel':['poly']},\n",
    "             {'kernel':['sigmoid']}]"
   ]
  },
  {
   "cell_type": "code",
   "execution_count": 70,
   "metadata": {},
   "outputs": [
    {
     "data": {
      "text/plain": [
       "GridSearchCV(cv=5, estimator=SVC(),\n",
       "             param_grid=[{'kernel': ['rbf']}, {'kernel': ['linear']},\n",
       "                         {'kernel': ['poly']}, {'kernel': ['sigmoid']}])"
      ]
     },
     "execution_count": 70,
     "metadata": {},
     "output_type": "execute_result"
    }
   ],
   "source": [
    "from sklearn.model_selection import GridSearchCV\n",
    "svm_model=GridSearchCV(SVC(),params_grid1,cv=5)\n",
    "svm_model.fit(x_train,y_train)"
   ]
  },
  {
   "cell_type": "code",
   "execution_count": 71,
   "metadata": {},
   "outputs": [
    {
     "name": "stdout",
     "output_type": "stream",
     "text": [
      "Best score for training data: 0.9800000000000001 \n",
      "\n",
      "Best C: 1.0 \n",
      "\n",
      "Best Kernel: linear \n",
      "\n",
      "Best Gamma: scale \n",
      "\n"
     ]
    }
   ],
   "source": [
    "print('Best score for training data:',svm_model.best_score_,\"\\n\")\n",
    "\n",
    "#View the best parameters for the model found using grid search\n",
    "print('Best C:',svm_model.best_estimator_.C,\"\\n\")\n",
    "print('Best Kernel:',svm_model.best_estimator_.kernel,\"\\n\")\n",
    "print('Best Gamma:',svm_model.best_estimator_.gamma,\"\\n\")\n",
    "\n",
    "final_model=svm_model.best_estimator_\n",
    "Y_pred=final_model.predict(x_test)"
   ]
  },
  {
   "cell_type": "code",
   "execution_count": 72,
   "metadata": {},
   "outputs": [
    {
     "name": "stdout",
     "output_type": "stream",
     "text": [
      "1.0\n"
     ]
    }
   ],
   "source": [
    "print(accuracy_score(y_test,Y_pred))"
   ]
  }
 ],
 "metadata": {
  "kernelspec": {
   "display_name": "Python 3",
   "language": "python",
   "name": "python3"
  },
  "language_info": {
   "codemirror_mode": {
    "name": "ipython",
    "version": 3
   },
   "file_extension": ".py",
   "mimetype": "text/x-python",
   "name": "python",
   "nbconvert_exporter": "python",
   "pygments_lexer": "ipython3",
   "version": "3.8.5"
  }
 },
 "nbformat": 4,
 "nbformat_minor": 4
}
